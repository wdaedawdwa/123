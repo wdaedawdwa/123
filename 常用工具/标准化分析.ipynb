{
 "cells": [
  {
   "cell_type": "code",
   "execution_count": 7,
   "metadata": {
    "collapsed": true
   },
   "outputs": [],
   "source": [
    "import numpy as np\n",
    "import pandas as pd\n",
    "import matplotlib.pyplot as plt\n",
    "% matplotlib inline\n",
    "import os\n",
    "os.chdir('C:/Users/Administrator/Desktop/')"
   ]
  },
  {
   "cell_type": "code",
   "execution_count": 17,
   "metadata": {
    "collapsed": false
   },
   "outputs": [
    {
     "data": {
      "text/plain": [
       "11.173501517179622"
      ]
     },
     "execution_count": 17,
     "metadata": {},
     "output_type": "execute_result"
    }
   ],
   "source": [
    "data = pd.read_excel('1.xlsx')\n",
    "data = data_norm(data,'3月收入','5月收入','7月收入','8月收入')\n",
    "data = data_Znorm(data,'3月收入','5月收入','7月收入','8月收入')\n",
    "#data.to_csv('C:/Users/Administrator/Desktop/1.csv')\n",
    "data['3月收入_n'].sum()"
   ]
  },
  {
   "cell_type": "code",
   "execution_count": 13,
   "metadata": {
    "collapsed": true
   },
   "outputs": [],
   "source": [
    "def data_norm(df,*cols):\n",
    "    df_n = df.copy()\n",
    "    for col in cols:\n",
    "        ma = df_n[col].max()\n",
    "        mi = df_n[col].min()\n",
    "        df_n[col+'_n'] = (df_n[col]-mi)/(ma - mi)\n",
    "    return(df_n)\n",
    "\n",
    "def data_Znorm(df,*cols):\n",
    "    df_n = df.copy()\n",
    "    for col in cols:\n",
    "        u = df_n[col].mean()\n",
    "        std = df_n[col].std()\n",
    "        df_n[col+'_Zn'] = (df_n[col]-u)/std\n",
    "    return(df_n)\n",
    "        \n"
   ]
  }
 ],
 "metadata": {
  "anaconda-cloud": {},
  "kernelspec": {
   "display_name": "Python [default]",
   "language": "python",
   "name": "python3"
  },
  "language_info": {
   "codemirror_mode": {
    "name": "ipython",
    "version": 3
   },
   "file_extension": ".py",
   "mimetype": "text/x-python",
   "name": "python",
   "nbconvert_exporter": "python",
   "pygments_lexer": "ipython3",
   "version": "3.5.2"
  }
 },
 "nbformat": 4,
 "nbformat_minor": 1
}
