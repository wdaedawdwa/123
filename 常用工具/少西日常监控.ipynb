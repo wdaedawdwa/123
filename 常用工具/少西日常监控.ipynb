{
 "cells": [
  {
   "cell_type": "code",
   "execution_count": 1,
   "metadata": {
    "collapsed": false
   },
   "outputs": [],
   "source": [
    "import pandas as pd\n",
    "import numpy as np\n",
    "\n",
    "import os"
   ]
  },
  {
   "cell_type": "code",
   "execution_count": 2,
   "metadata": {
    "collapsed": false,
    "scrolled": true
   },
   "outputs": [
    {
     "data": {
      "text/html": [
       "<div>\n",
       "<table border=\"1\" class=\"dataframe\">\n",
       "  <thead>\n",
       "    <tr style=\"text-align: right;\">\n",
       "      <th></th>\n",
       "      <th>0</th>\n",
       "      <th>1</th>\n",
       "      <th>2</th>\n",
       "      <th>3</th>\n",
       "    </tr>\n",
       "  </thead>\n",
       "  <tbody>\n",
       "    <tr>\n",
       "      <th>index</th>\n",
       "      <td>新增汇总</td>\n",
       "      <td>新增付费汇总</td>\n",
       "      <td>新增付费用户收入汇总</td>\n",
       "      <td>收入（折扣前）汇总</td>\n",
       "    </tr>\n",
       "    <tr>\n",
       "      <th>0</th>\n",
       "      <td>8310</td>\n",
       "      <td>1979</td>\n",
       "      <td>269032</td>\n",
       "      <td>1483494</td>\n",
       "    </tr>\n",
       "    <tr>\n",
       "      <th>index</th>\n",
       "      <td>新增汇总</td>\n",
       "      <td>新增付费汇总</td>\n",
       "      <td>新增付费用户收入汇总</td>\n",
       "      <td>收入（折扣前）汇总</td>\n",
       "    </tr>\n",
       "    <tr>\n",
       "      <th>0</th>\n",
       "      <td>294</td>\n",
       "      <td>47</td>\n",
       "      <td>12927</td>\n",
       "      <td>161665</td>\n",
       "    </tr>\n",
       "  </tbody>\n",
       "</table>\n",
       "</div>"
      ],
      "text/plain": [
       "          0       1           2          3\n",
       "index  新增汇总  新增付费汇总  新增付费用户收入汇总  收入（折扣前）汇总\n",
       "0      8310    1979      269032    1483494\n",
       "index  新增汇总  新增付费汇总  新增付费用户收入汇总  收入（折扣前）汇总\n",
       "0       294      47       12927     161665"
      ]
     },
     "execution_count": 2,
     "metadata": {},
     "output_type": "execute_result"
    }
   ],
   "source": [
    "#安卓数据\n",
    "os.chdir('C:/Users/Administrator/Desktop/工具包/日常监控/安卓数据/')\n",
    "lst = os.listdir('C:/Users/Administrator/Desktop/工具包/日常监控/安卓数据/')\n",
    "m = []\n",
    "\n",
    "for i in lst:\n",
    "    data = pd.read_csv(i,engine = 'python').sort_values('日期')\n",
    "    data_select = data[[data.columns[7],data.columns[10],data.columns[11],data.columns[12]]]\n",
    "    m.append(data_select)\n",
    "    \n",
    "a = pd.concat([m[0],m[1]],axis = 1)\n",
    "a.columns = ['新增用户a','新增付费用户a','新增付费用户收入a','收入a',\n",
    "             '新增用户b','新增付费用户b','新增付费用户收入b','收入b']\n",
    "\n",
    "a['新增汇总'] = a['新增用户a']+a['新增用户b']\n",
    "a['新增付费汇总'] = a['新增付费用户a']+a['新增付费用户b']\n",
    "a['新增付费用户收入汇总'] = a['新增付费用户收入a']+a['新增付费用户收入b']\n",
    "a['收入（折扣前）汇总'] = a['收入a']+a['收入b']\n",
    "a = a[['新增汇总','新增付费汇总','新增付费用户收入汇总','收入（折扣前）汇总']]\n",
    "\n",
    "#IOS数据\n",
    "os.chdir('C:/Users/Administrator/Desktop/工具包/日常监控/IOS数据/')\n",
    "lst = os.listdir('C:/Users/Administrator/Desktop/工具包/日常监控/IOS数据/')\n",
    "m = []\n",
    "\n",
    "for i in lst:\n",
    "    data = pd.read_csv(i,engine = 'python').sort_values('日期')\n",
    "    data_select = data[[data.columns[7],data.columns[10],data.columns[11],data.columns[12]]]\n",
    "    m.append(data_select)\n",
    "    \n",
    "b = pd.concat([m[0],m[1]],axis = 1)\n",
    "b.columns = ['新增用户a','新增付费用户a','新增付费用户收入a','收入a',\n",
    "             '新增用户b','新增付费用户b','新增付费用户收入b','收入b']\n",
    "\n",
    "b['新增汇总'] = b['新增用户a']+b['新增用户b']\n",
    "b['新增付费汇总'] = b['新增付费用户a']+b['新增付费用户b']\n",
    "b['新增付费用户收入汇总'] = b['新增付费用户收入a']+b['新增付费用户收入b']\n",
    "b['收入（折扣前）汇总'] = b['收入a']+b['收入b']\n",
    "b = b[['新增汇总','新增付费汇总','新增付费用户收入汇总','收入（折扣前）汇总']]\n",
    "\n",
    "pd.concat([a.sum().reset_index(),b.sum().reset_index()],axis = 1).T"
   ]
  },
  {
   "cell_type": "code",
   "execution_count": null,
   "metadata": {
    "collapsed": false
   },
   "outputs": [],
   "source": []
  }
 ],
 "metadata": {
  "anaconda-cloud": {},
  "kernelspec": {
   "display_name": "Python [default]",
   "language": "python",
   "name": "python3"
  },
  "language_info": {
   "codemirror_mode": {
    "name": "ipython",
    "version": 3
   },
   "file_extension": ".py",
   "mimetype": "text/x-python",
   "name": "python",
   "nbconvert_exporter": "python",
   "pygments_lexer": "ipython3",
   "version": "3.5.2"
  }
 },
 "nbformat": 4,
 "nbformat_minor": 1
}
