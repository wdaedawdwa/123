{
 "cells": [
  {
   "cell_type": "code",
   "execution_count": 1,
   "metadata": {
    "collapsed": true
   },
   "outputs": [],
   "source": [
    "import numpy as np\n",
    "import pandas as pd\n",
    "import datetime\n",
    "import matplotlib.pyplot as plt \n",
    "import os\n",
    "os.chdir('C:/Users/Administrator/Desktop/工具包/分布分析/新增订单11月与12月/')\n",
    "pd.set_option('display.float_format',lambda x : '%.2f' % x)"
   ]
  },
  {
   "cell_type": "code",
   "execution_count": 3,
   "metadata": {
    "collapsed": false,
    "scrolled": false
   },
   "outputs": [
    {
     "data": {
      "text/html": [
       "<div>\n",
       "<table border=\"1\" class=\"dataframe\">\n",
       "  <thead>\n",
       "    <tr style=\"text-align: right;\">\n",
       "      <th></th>\n",
       "      <th>11月金额</th>\n",
       "      <th>11月人数</th>\n",
       "      <th>12月金额</th>\n",
       "      <th>12月人数</th>\n",
       "      <th>差值_金额</th>\n",
       "      <th>差值_人数</th>\n",
       "    </tr>\n",
       "    <tr>\n",
       "      <th>区间</th>\n",
       "      <th></th>\n",
       "      <th></th>\n",
       "      <th></th>\n",
       "      <th></th>\n",
       "      <th></th>\n",
       "      <th></th>\n",
       "    </tr>\n",
       "  </thead>\n",
       "  <tbody>\n",
       "    <tr>\n",
       "      <th>[0, 500)</th>\n",
       "      <td>50715.70</td>\n",
       "      <td>423</td>\n",
       "      <td>51870.30</td>\n",
       "      <td>408</td>\n",
       "      <td>1154.60</td>\n",
       "      <td>-15</td>\n",
       "    </tr>\n",
       "    <tr>\n",
       "      <th>[500, 1000)</th>\n",
       "      <td>22157.00</td>\n",
       "      <td>32</td>\n",
       "      <td>140872.02</td>\n",
       "      <td>192</td>\n",
       "      <td>118715.02</td>\n",
       "      <td>160</td>\n",
       "    </tr>\n",
       "    <tr>\n",
       "      <th>[1000, 3000)</th>\n",
       "      <td>109769.00</td>\n",
       "      <td>68</td>\n",
       "      <td>104027.36</td>\n",
       "      <td>66</td>\n",
       "      <td>-5741.64</td>\n",
       "      <td>-2</td>\n",
       "    </tr>\n",
       "    <tr>\n",
       "      <th>[3000, 5000)</th>\n",
       "      <td>43059.70</td>\n",
       "      <td>12</td>\n",
       "      <td>7236.00</td>\n",
       "      <td>2</td>\n",
       "      <td>-35823.70</td>\n",
       "      <td>-10</td>\n",
       "    </tr>\n",
       "    <tr>\n",
       "      <th>[5000, 10000)</th>\n",
       "      <td>10969.00</td>\n",
       "      <td>2</td>\n",
       "      <td>35009.00</td>\n",
       "      <td>5</td>\n",
       "      <td>24040.00</td>\n",
       "      <td>3</td>\n",
       "    </tr>\n",
       "    <tr>\n",
       "      <th>[10000, 9999999999)</th>\n",
       "      <td>41146.00</td>\n",
       "      <td>3</td>\n",
       "      <td>29306.00</td>\n",
       "      <td>2</td>\n",
       "      <td>-11840.00</td>\n",
       "      <td>-1</td>\n",
       "    </tr>\n",
       "  </tbody>\n",
       "</table>\n",
       "</div>"
      ],
      "text/plain": [
       "                        11月金额  11月人数     12月金额  12月人数     差值_金额  差值_人数\n",
       "区间                                                                    \n",
       "[0, 500)             50715.70    423  51870.30    408   1154.60    -15\n",
       "[500, 1000)          22157.00     32 140872.02    192 118715.02    160\n",
       "[1000, 3000)        109769.00     68 104027.36     66  -5741.64     -2\n",
       "[3000, 5000)         43059.70     12   7236.00      2 -35823.70    -10\n",
       "[5000, 10000)        10969.00      2  35009.00      5  24040.00      3\n",
       "[10000, 9999999999)  41146.00      3  29306.00      2 -11840.00     -1"
      ]
     },
     "execution_count": 3,
     "metadata": {},
     "output_type": "execute_result"
    }
   ],
   "source": [
    "#读取与合并\n",
    "data1 = pd.read_csv('2019-11-01_2019-11-29新增消费数据.csv',engine = 'python')\n",
    "data2 = pd.read_csv('2019-12-01_2019-12-29新增消费数据.csv',engine = 'python')\n",
    "data3 = pd.read_excel('渠道对接人1230.xlsx')\n",
    "\n",
    "data1 = pd.merge(data1,data3,on = '渠道ID',how = 'left') [['uin','appid','app_name','消费金额',\n",
    "                                                         '注册时间','渠道ID','会长账号ID','会长账号']]\n",
    "data2 = pd.merge(data2,data3,on = '渠道ID',how = 'left') [['uin','appid','app_name','消费金额',\n",
    "                                                         '注册时间','渠道ID','会长账号ID','会长账号']]\n",
    "\n",
    "#数据筛选\n",
    "#data1 = data1[data1['会长账号'] == 19891226]\n",
    "data1 = data1[data1['appid'] == 120298]\n",
    "#data1 = data1[data1['渠道ID'] == 90400]\n",
    "\n",
    "#data2 = data2[data2['会长账号'] == 19891226]\n",
    "data2 = data2[data2['appid'] == 120298]\n",
    "#data2 = data2[data2['渠道ID'] == 90400]\n",
    "\n",
    "#区间定义\n",
    "def f1(df):\n",
    "        cut = pd.cut(df['消费金额'],[0,500,1000,3000,5000,10000,9999999999],right = False)\n",
    "        df['区间'] = cut.values\n",
    "        df = df.groupby('区间').sum()\n",
    "        df['人数'] = cut.value_counts()\n",
    "        df.fillna(0,inplace = True)\n",
    "        return(df[['消费金额','人数']])\n",
    "\n",
    "c = pd.merge(f1(data1),f1(data2),left_index = True,right_index = True,how = 'outer')\n",
    "c.rename(columns ={'消费金额_x':'11月金额','人数_x':'11月人数',\n",
    "                   '消费金额_y':'12月金额','人数_y':'12月人数'},inplace = True)\n",
    "c['差值_金额'] = c['12月金额'] - c['11月金额']\n",
    "c['差值_人数'] = c['12月人数'] - c['11月人数']\n",
    "c"
   ]
  },
  {
   "cell_type": "code",
   "execution_count": 10,
   "metadata": {
    "collapsed": false
   },
   "outputs": [
    {
     "data": {
      "text/plain": [
       "11月金额    444987.39\n",
       "11月人数      1174.00\n",
       "12月金额    140128.00\n",
       "12月人数       607.00\n",
       "差值_金额   -304859.39\n",
       "差值_人数      -567.00\n",
       "dtype: float64"
      ]
     },
     "execution_count": 10,
     "metadata": {},
     "output_type": "execute_result"
    }
   ],
   "source": [
    "c.sum()"
   ]
  }
 ],
 "metadata": {
  "anaconda-cloud": {},
  "kernelspec": {
   "display_name": "Python [default]",
   "language": "python",
   "name": "python3"
  },
  "language_info": {
   "codemirror_mode": {
    "name": "ipython",
    "version": 3
   },
   "file_extension": ".py",
   "mimetype": "text/x-python",
   "name": "python",
   "nbconvert_exporter": "python",
   "pygments_lexer": "ipython3",
   "version": "3.5.2"
  }
 },
 "nbformat": 4,
 "nbformat_minor": 1
}
