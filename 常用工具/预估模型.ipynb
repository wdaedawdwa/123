{
 "cells": [
  {
   "cell_type": "code",
   "execution_count": 1,
   "metadata": {
    "collapsed": true
   },
   "outputs": [],
   "source": [
    "#预估流水 = 活动预估 + 新增质量因子 + 误差\n",
    "#活动预估 = 往期活动流水\n",
    "#上月新增流水对于本月新增流水的影响是多少，两者是否存在相关关系"
   ]
  },
  {
   "cell_type": "code",
   "execution_count": 4,
   "metadata": {
    "collapsed": true
   },
   "outputs": [],
   "source": [
    "import numpy as np\n",
    "import pandas as pd\n",
    "import os\n",
    "os.chdir('C:/Users/Administrator/Desktop/项目/预估模型/')"
   ]
  },
  {
   "cell_type": "code",
   "execution_count": 13,
   "metadata": {
    "collapsed": false
   },
   "outputs": [
    {
     "data": {
      "text/html": [
       "<div>\n",
       "<table border=\"1\" class=\"dataframe\">\n",
       "  <thead>\n",
       "    <tr style=\"text-align: right;\">\n",
       "      <th></th>\n",
       "      <th>时间</th>\n",
       "      <th>投放内容</th>\n",
       "      <th>公会流水-安卓</th>\n",
       "      <th>公会流水-IOS</th>\n",
       "    </tr>\n",
       "  </thead>\n",
       "  <tbody>\n",
       "    <tr>\n",
       "      <th>22</th>\n",
       "      <td>4.24-26</td>\n",
       "      <td>彩金武将2-首发</td>\n",
       "      <td>1812146</td>\n",
       "      <td>880108</td>\n",
       "    </tr>\n",
       "    <tr>\n",
       "      <th>28</th>\n",
       "      <td>5.12-5.14</td>\n",
       "      <td>彩金武将2</td>\n",
       "      <td>1070688</td>\n",
       "      <td>455204</td>\n",
       "    </tr>\n",
       "    <tr>\n",
       "      <th>31</th>\n",
       "      <td>5.30-6.1</td>\n",
       "      <td>彩金武将2</td>\n",
       "      <td>1066383</td>\n",
       "      <td>401611</td>\n",
       "    </tr>\n",
       "    <tr>\n",
       "      <th>39</th>\n",
       "      <td>6.23-25</td>\n",
       "      <td>彩金武将2+彩金装备</td>\n",
       "      <td>1401617</td>\n",
       "      <td>434974</td>\n",
       "    </tr>\n",
       "    <tr>\n",
       "      <th>44</th>\n",
       "      <td>7.8-10</td>\n",
       "      <td>500%充返+彩金武将2</td>\n",
       "      <td>1219371</td>\n",
       "      <td>357409</td>\n",
       "    </tr>\n",
       "    <tr>\n",
       "      <th>51</th>\n",
       "      <td>7.27-29</td>\n",
       "      <td>彩金武将2+彩金名将1</td>\n",
       "      <td>1023463</td>\n",
       "      <td>331616</td>\n",
       "    </tr>\n",
       "    <tr>\n",
       "      <th>54</th>\n",
       "      <td>8.5-7</td>\n",
       "      <td>彩金武将2+彩金装备</td>\n",
       "      <td>681245</td>\n",
       "      <td>237998</td>\n",
       "    </tr>\n",
       "    <tr>\n",
       "      <th>57</th>\n",
       "      <td>8.14-16</td>\n",
       "      <td>彩金武将2+彩金宝物/彩金装</td>\n",
       "      <td>1134613</td>\n",
       "      <td>384451</td>\n",
       "    </tr>\n",
       "    <tr>\n",
       "      <th>63</th>\n",
       "      <td>9.1-3</td>\n",
       "      <td>彩金武将2 +彩金军师2</td>\n",
       "      <td>891570</td>\n",
       "      <td>323806</td>\n",
       "    </tr>\n",
       "  </tbody>\n",
       "</table>\n",
       "</div>"
      ],
      "text/plain": [
       "           时间            投放内容  公会流水-安卓  公会流水-IOS\n",
       "22    4.24-26        彩金武将2-首发  1812146    880108\n",
       "28  5.12-5.14           彩金武将2  1070688    455204\n",
       "31   5.30-6.1           彩金武将2  1066383    401611\n",
       "39    6.23-25      彩金武将2+彩金装备  1401617    434974\n",
       "44     7.8-10    500%充返+彩金武将2  1219371    357409\n",
       "51    7.27-29     彩金武将2+彩金名将1  1023463    331616\n",
       "54      8.5-7      彩金武将2+彩金装备   681245    237998\n",
       "57    8.14-16  彩金武将2+彩金宝物/彩金装  1134613    384451\n",
       "63      9.1-3    彩金武将2 +彩金军师2   891570    323806"
      ]
     },
     "execution_count": 13,
     "metadata": {},
     "output_type": "execute_result"
    }
   ],
   "source": [
    "data = pd.read_excel('往期流水.xlsx')\n",
    "bool = data['投放内容'].str.contains('彩金武将2')\n",
    "data[bool]"
   ]
  },
  {
   "cell_type": "code",
   "execution_count": null,
   "metadata": {
    "collapsed": true
   },
   "outputs": [],
   "source": []
  }
 ],
 "metadata": {
  "anaconda-cloud": {},
  "kernelspec": {
   "display_name": "Python [default]",
   "language": "python",
   "name": "python3"
  },
  "language_info": {
   "codemirror_mode": {
    "name": "ipython",
    "version": 3
   },
   "file_extension": ".py",
   "mimetype": "text/x-python",
   "name": "python",
   "nbconvert_exporter": "python",
   "pygments_lexer": "ipython3",
   "version": "3.5.2"
  }
 },
 "nbformat": 4,
 "nbformat_minor": 1
}
