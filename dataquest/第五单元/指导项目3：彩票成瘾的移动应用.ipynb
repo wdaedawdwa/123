{
 "cells": [
  {
   "cell_type": "markdown",
   "metadata": {},
   "source": [
    "指导项目：彩票成瘾的移动应用\n",
    "在这个项目中，我们将通过编写几个主要专注于计算概率的函数来为移动应用程序的开发做出贡献。该应用程序旨在通过帮助人们更好地估计自己的中奖机会来预防和治疗彩票成瘾。\n",
    "\n",
    "该应用程序的想法来自一家专门治疗赌博成瘾的医疗机构。该研究所已经有一个工程师团队来构建应用程序，但是他们需要我们创建应用程序的逻辑核心并计算概率。对于该应用程序的第一个版本，他们希望我们专注于6/49彩票并构建可以回答用户以下问题的功能：\n",
    "\n",
    "单张彩票中大奖的概率是多少？\n",
    "如果我们玩40张不同的彩票（或其他数字），赢得大奖的概率是多少？\n",
    "单张票上至少有五个（或四个或三个）中奖号码的概率是多少？\n",
    "我们在整个项目中遵循的场景都是虚构的，主要目的是在模拟真实场景的环境中练习应用概率和组合概念（排列和组合）概念。\n",
    "\n",
    "核心功能\n",
    "下面，我们将编写两个经常使用的函数：\n",
    "\n",
    "factorial（）一个计算阶乘的函数\n",
    "groups（）一个计算组合的函数"
   ]
  },
  {
   "cell_type": "code",
   "execution_count": 5,
   "metadata": {
    "collapsed": true
   },
   "outputs": [],
   "source": [
    "import pandas as pd\n",
    "import numpy as np\n",
    "import os\n",
    "os.chdir('E:/学习资料/python数据分析/dataquest/第五单元/项目三/')\n",
    "\n",
    "import matplotlib.pyplot as plt\n",
    "%matplotlib inline  \n",
    "pd.options.display.max_columns = 150 # to avoid truncated output \n",
    "pd.set_option('display.float_format',lambda x : '%.2f' % x)"
   ]
  },
  {
   "cell_type": "code",
   "execution_count": 1,
   "metadata": {
    "collapsed": false
   },
   "outputs": [],
   "source": [
    "def factorial(n):\n",
    "    final_product = 1\n",
    "    for i in range(n,0,-1):\n",
    "        final_product = final_product * i\n",
    "    return(final_product)\n",
    "\n",
    "def combinations(n,k):\n",
    "    numerator = factorial(n)\n",
    "    denominator = factorial(k) * factorial(n-k)\n",
    "    return numerator / denominator"
   ]
  },
  {
   "cell_type": "markdown",
   "metadata": {},
   "source": [
    "一票制概率\n",
    "我们需要构建一个函数来计算任何给定票证赢得大奖的可能性。 对于每个抽奖，从49组中抽取6个数字，如果门票上的6个数字与所有6个数字都匹配，则玩家将赢得大奖。\n",
    "\n",
    "工程师团队告诉我们，在编写函数时，我们需要注意以下细节：\n",
    "\n",
    "在应用程序内，用户输入从1到49的六个不同数字。\n",
    "在幕后，这六个数字将作为Python列表出现，并作为我们函数的输入。\n",
    "工程团队希望该功能以友好的方式打印概率值，这种方式使未经任何概率训练的人都能够理解。\n",
    "下面，我们编写one_ticket_probability（）函数，该函数接收六个唯一数字的列表，并以一种易于理解的方式显示获胜的概率。"
   ]
  },
  {
   "cell_type": "code",
   "execution_count": 17,
   "metadata": {
    "collapsed": false
   },
   "outputs": [],
   "source": [
    "def one_ticket_probability(user_numbers):\n",
    "    n_combinations = combinations(49,6)\n",
    "    one_ticket_probability = 1 / n_combinations\n",
    "    percentage_form = one_ticket_probability*100\n",
    "    print('''Your chances to win the big prize with the numbers {} are {:.7f}%.\n",
    "In other words, you have a 1 in {:,} chances to win.'''.format(user_numbers,\n",
    "                    percentage_form, int(n_combinations)))\n",
    "\n",
    "    "
   ]
  },
  {
   "cell_type": "code",
   "execution_count": 18,
   "metadata": {
    "collapsed": false
   },
   "outputs": [
    {
     "name": "stdout",
     "output_type": "stream",
     "text": [
      "Your chances to win the big prize with the numbers [2, 43, 22, 23, 11, 5] are 0.0000072%.\n",
      "In other words, you have a 1 in 13,983,816 chances to win.\n"
     ]
    }
   ],
   "source": [
    "test_input_1 = [2, 43, 22, 23, 11, 5]\n",
    "one_ticket_probability(test_input_1)"
   ]
  },
  {
   "cell_type": "code",
   "execution_count": 20,
   "metadata": {
    "collapsed": false
   },
   "outputs": [
    {
     "name": "stdout",
     "output_type": "stream",
     "text": [
      "Your chances to win the big prize with the numbers [9, 26, 41, 7, 15, 6] are 0.0000072%.\n",
      "In other words, you have a 1 in 13,983,816 chances to win.\n"
     ]
    }
   ],
   "source": [
    "test_input_2 = [9, 26, 41, 7, 15, 6]\n",
    "one_ticket_probability(test_input_2)"
   ]
  },
  {
   "cell_type": "markdown",
   "metadata": {},
   "source": [
    "历史数据检查加拿大彩票\n",
    "该研究所还希望我们考虑来自加拿大国家6/49彩票游戏的数据。 数据集包含从1982年到2018年的3,665张图纸的历史数据（可从此处下载数据集）。"
   ]
  },
  {
   "cell_type": "code",
   "execution_count": 24,
   "metadata": {
    "collapsed": false
   },
   "outputs": [
    {
     "name": "stdout",
     "output_type": "stream",
     "text": [
      "(3665, 11)\n"
     ]
    },
    {
     "data": {
      "text/html": [
       "<div>\n",
       "<table border=\"1\" class=\"dataframe\">\n",
       "  <thead>\n",
       "    <tr style=\"text-align: right;\">\n",
       "      <th></th>\n",
       "      <th>PRODUCT</th>\n",
       "      <th>DRAW NUMBER</th>\n",
       "      <th>SEQUENCE NUMBER</th>\n",
       "      <th>DRAW DATE</th>\n",
       "      <th>NUMBER DRAWN 1</th>\n",
       "      <th>NUMBER DRAWN 2</th>\n",
       "      <th>NUMBER DRAWN 3</th>\n",
       "      <th>NUMBER DRAWN 4</th>\n",
       "      <th>NUMBER DRAWN 5</th>\n",
       "      <th>NUMBER DRAWN 6</th>\n",
       "      <th>BONUS NUMBER</th>\n",
       "    </tr>\n",
       "  </thead>\n",
       "  <tbody>\n",
       "    <tr>\n",
       "      <th>0</th>\n",
       "      <td>649</td>\n",
       "      <td>1</td>\n",
       "      <td>0</td>\n",
       "      <td>6/12/1982</td>\n",
       "      <td>3</td>\n",
       "      <td>11</td>\n",
       "      <td>12</td>\n",
       "      <td>14</td>\n",
       "      <td>41</td>\n",
       "      <td>43</td>\n",
       "      <td>13</td>\n",
       "    </tr>\n",
       "    <tr>\n",
       "      <th>1</th>\n",
       "      <td>649</td>\n",
       "      <td>2</td>\n",
       "      <td>0</td>\n",
       "      <td>6/19/1982</td>\n",
       "      <td>8</td>\n",
       "      <td>33</td>\n",
       "      <td>36</td>\n",
       "      <td>37</td>\n",
       "      <td>39</td>\n",
       "      <td>41</td>\n",
       "      <td>9</td>\n",
       "    </tr>\n",
       "    <tr>\n",
       "      <th>2</th>\n",
       "      <td>649</td>\n",
       "      <td>3</td>\n",
       "      <td>0</td>\n",
       "      <td>6/26/1982</td>\n",
       "      <td>1</td>\n",
       "      <td>6</td>\n",
       "      <td>23</td>\n",
       "      <td>24</td>\n",
       "      <td>27</td>\n",
       "      <td>39</td>\n",
       "      <td>34</td>\n",
       "    </tr>\n",
       "    <tr>\n",
       "      <th>3</th>\n",
       "      <td>649</td>\n",
       "      <td>4</td>\n",
       "      <td>0</td>\n",
       "      <td>7/3/1982</td>\n",
       "      <td>3</td>\n",
       "      <td>9</td>\n",
       "      <td>10</td>\n",
       "      <td>13</td>\n",
       "      <td>20</td>\n",
       "      <td>43</td>\n",
       "      <td>34</td>\n",
       "    </tr>\n",
       "    <tr>\n",
       "      <th>4</th>\n",
       "      <td>649</td>\n",
       "      <td>5</td>\n",
       "      <td>0</td>\n",
       "      <td>7/10/1982</td>\n",
       "      <td>5</td>\n",
       "      <td>14</td>\n",
       "      <td>21</td>\n",
       "      <td>31</td>\n",
       "      <td>34</td>\n",
       "      <td>47</td>\n",
       "      <td>45</td>\n",
       "    </tr>\n",
       "  </tbody>\n",
       "</table>\n",
       "</div>"
      ],
      "text/plain": [
       "   PRODUCT  DRAW NUMBER  SEQUENCE NUMBER  DRAW DATE  NUMBER DRAWN 1  \\\n",
       "0      649            1                0  6/12/1982               3   \n",
       "1      649            2                0  6/19/1982               8   \n",
       "2      649            3                0  6/26/1982               1   \n",
       "3      649            4                0   7/3/1982               3   \n",
       "4      649            5                0  7/10/1982               5   \n",
       "\n",
       "   NUMBER DRAWN 2  NUMBER DRAWN 3  NUMBER DRAWN 4  NUMBER DRAWN 5  \\\n",
       "0              11              12              14              41   \n",
       "1              33              36              37              39   \n",
       "2               6              23              24              27   \n",
       "3               9              10              13              20   \n",
       "4              14              21              31              34   \n",
       "\n",
       "   NUMBER DRAWN 6  BONUS NUMBER  \n",
       "0              43            13  \n",
       "1              41             9  \n",
       "2              39            34  \n",
       "3              43            34  \n",
       "4              47            45  "
      ]
     },
     "execution_count": 24,
     "metadata": {},
     "output_type": "execute_result"
    }
   ],
   "source": [
    "lottery_canada = pd.read_csv('649.csv',engine = 'python')\n",
    "print(lottery_canada.shape)\n",
    "lottery_canada.head()"
   ]
  },
  {
   "cell_type": "markdown",
   "metadata": {},
   "source": [
    "历史数据检查功能\n",
    "\n",
    "工程团队告诉我们，我们需要编写一个函数，该函数可以使用六个数字的一定组合来帮助用户确定他们现在是否会赢。 这些是我们需要注意的细节：\n",
    "\n",
    "在应用程序内，用户输入从1到49的六个不同数字。\n",
    "在幕后，这六个数字将作为Python列表出现，并作为我们函数的输入。\n",
    "工程团队希望我们编写一个可以打印的函数：\n",
    "所选组合发生的次数； 和\n",
    "通过这种组合在下一张图纸中赢得大奖的可能性。\n",
    "我们将从彩票数据集中提取所有中奖号码开始。 extract_numbers（）函数将遍历数据帧的每一行，并将六个获胜的数字提取为Python集。"
   ]
  },
  {
   "cell_type": "code",
   "execution_count": 52,
   "metadata": {
    "collapsed": false
   },
   "outputs": [
    {
     "data": {
      "text/plain": [
       "0    {3, 41, 11, 12, 43, 14}\n",
       "1    {33, 36, 37, 39, 8, 41}\n",
       "2     {1, 6, 39, 23, 24, 27}\n",
       "3     {3, 9, 10, 43, 13, 20}\n",
       "4    {34, 5, 14, 47, 21, 31}\n",
       "dtype: object"
      ]
     },
     "execution_count": 52,
     "metadata": {},
     "output_type": "execute_result"
    }
   ],
   "source": [
    "def extract_numbers(row):\n",
    "    row = row[4:10]\n",
    "    row = set(row.values)\n",
    "    return row\n",
    "\n",
    "winning_numbers = lottery_canada.apply(extract_numbers,axis = 1)\n",
    "winning_numbers.head()"
   ]
  },
  {
   "cell_type": "markdown",
   "metadata": {},
   "source": [
    "在下面，我们编写check_historical_occurrence（）函数，该函数接受用户编号和历史编号，并在下一张图纸中打印有关出现次数和获胜概率的信息。"
   ]
  },
  {
   "cell_type": "code",
   "execution_count": 55,
   "metadata": {
    "collapsed": false
   },
   "outputs": [],
   "source": [
    "def check_historical_occurrence(user_numbers, historical_numbers):   \n",
    "    '''\n",
    "    user_numbers: a Python list\n",
    "    historical numbers: a pandas Series\n",
    "    '''\n",
    "    \n",
    "    user_numbers_set = set(user_numbers)\n",
    "    occurrence_numbers = user_numbers_set == historical_numbers\n",
    "    n_occurrences = occurrence_numbers.sum()\n",
    "    \n",
    "    if n_occurrences == 0:\n",
    "        print('''The combination {} has never occured.\n",
    "This doesn't mean it's more likely to occur now. Your chances to win the big prize in the next drawing using the combination {} are 0.0000072%.\n",
    "In other words, you have a 1 in 13,983,816 chances to win.'''.format(user_numbers, user_numbers))\n",
    "        \n",
    "    else:\n",
    "        print('''The number of times combination {} has occured in the past is {}.\n",
    "Your chances to win the big prize in the next drawing using the combination {} are 0.0000072%.\n",
    "In other words, you have a 1 in 13,983,816 chances to win.'''.format(user_numbers, n_occurrences,\n",
    "                                                                            user_numbers))"
   ]
  },
  {
   "cell_type": "code",
   "execution_count": 56,
   "metadata": {
    "collapsed": false
   },
   "outputs": [
    {
     "name": "stdout",
     "output_type": "stream",
     "text": [
      "The number of times combination [33, 36, 37, 39, 8, 41] has occured in the past is 1.\n",
      "Your chances to win the big prize in the next drawing using the combination [33, 36, 37, 39, 8, 41] are 0.0000072%.\n",
      "In other words, you have a 1 in 13,983,816 chances to win.\n"
     ]
    }
   ],
   "source": [
    "test_input_3 = [33, 36, 37, 39, 8, 41]\n",
    "check_historical_occurrence(test_input_3, winning_numbers)"
   ]
  },
  {
   "cell_type": "code",
   "execution_count": 58,
   "metadata": {
    "collapsed": false
   },
   "outputs": [
    {
     "name": "stdout",
     "output_type": "stream",
     "text": [
      "The combination [3, 2, 44, 22, 1, 44] has never occured.\n",
      "This doesn't mean it's more likely to occur now. Your chances to win the big prize in the next drawing using the combination [3, 2, 44, 22, 1, 44] are 0.0000072%.\n",
      "In other words, you have a 1 in 13,983,816 chances to win.\n"
     ]
    }
   ],
   "source": [
    "test_input_4 = [3, 2, 44, 22, 1, 44]\n",
    "check_historical_occurrence(test_input_4, winning_numbers)"
   ]
  },
  {
   "cell_type": "markdown",
   "metadata": {},
   "source": [
    "多票概率\n",
    "\n",
    "对于该应用程序的第一个版本，用户还应该能够找到玩多张不同彩票的中奖概率。 例如，某人可能打算打15张不同的彩票，而他们想知道赢得大奖的可能性。\n",
    "\n",
    "工程团队希望我们在编写函数时注意以下细节：\n",
    "\n",
    "用户将输入他们想要玩的不同门票的数量（无需输入他们想要玩的特定组合）。\n",
    "我们的函数将看到1到13,983,816（不同票证的最大数量）之间的整数。\n",
    "该功能应根据所玩不同彩票的数量打印有关中奖概率的信息。\n",
    "下面的multi_ticket_probability（）函数接收票证的数量，并根据输入结果打印概率信息。"
   ]
  },
  {
   "cell_type": "code",
   "execution_count": 65,
   "metadata": {
    "collapsed": false
   },
   "outputs": [
    {
     "name": "stdout",
     "output_type": "stream",
     "text": [
      "Your chances to win the big prize with one ticket are 0.000007%.\n",
      "In other words, you have a 1 in 13,983,816 chances to win.\n",
      "-------------------\n",
      "Your chances to win the big prize with 10 different tickets are 0.000072%.\n",
      "In other words, you have a 1 in 1,398,382 chances to win.\n",
      "-------------------\n",
      "Your chances to win the big prize with 100 different tickets are 0.000715%.\n",
      "In other words, you have a 1 in 139,838 chances to win.\n",
      "-------------------\n",
      "Your chances to win the big prize with 10,000 different tickets are 0.071511%.\n",
      "In other words, you have a 1 in 1,398 chances to win.\n",
      "-------------------\n",
      "Your chances to win the big prize with 1,000,000 different tickets are 7.151124%.\n",
      "In other words, you have a 1 in 14 chances to win.\n",
      "-------------------\n",
      "Your chances to win the big prize with 6,991,908 different tickets are 50.000000%.\n",
      "In other words, you have a 1 in 2 chances to win.\n",
      "-------------------\n",
      "Your chances to win the big prize with 13,983,816 different tickets are 100.000000%.\n",
      "In other words, you have a 1 in 1 chances to win.\n",
      "-------------------\n"
     ]
    }
   ],
   "source": [
    "def multi_ticket_probability(n_tickets):\n",
    "    n_combinations = combinations(49,6)\n",
    "    multi_ticket_probability = n_tickets / n_combinations\n",
    "    percentage_form = multi_ticket_probability*100\n",
    "    if n_tickets == 1:\n",
    "        print('''Your chances to win the big prize with one ticket are {:.6f}%.\n",
    "In other words, you have a 1 in {:,} chances to win.'''.format(percentage_form, int(n_combinations)))\n",
    "    \n",
    "    else:\n",
    "        combinations_simplified = round(n_combinations / n_tickets)   \n",
    "        print('''Your chances to win the big prize with {:,} different tickets are {:.6f}%.\n",
    "In other words, you have a 1 in {:,} chances to win.'''.format(n_tickets, percentage_form,\n",
    "                                                               combinations_simplified))\n",
    "    \n",
    "\n",
    "for i in [1, 10, 100, 10000, 1000000, 6991908, 13983816]:\n",
    "    multi_ticket_probability(i)\n",
    "    print('-------------------')"
   ]
  },
  {
   "cell_type": "markdown",
   "metadata": {},
   "source": [
    "较少的中奖号码-功能\n",
    "\n",
    "在大多数6/49彩票中，如果玩家的票证与所抽取的六个数字中的两个，三个，四个或五个相匹配，则奖品较小。这意味着玩家可能有兴趣找出拥有两个，三个，四个或五个中奖号码的可能性-对于该应用的第一个版本，用户应该能够找到这些可能性。\n",
    "\n",
    "这些是我们在编写函数以使这些概率的计算成为可能时需要注意的细节：\n",
    "\n",
    "在应用程序内，用户输入：\n",
    "从1到49的六个不同数字；和\n",
    "2到5之间的整数，代表预期的中奖号码数量\n",
    "我们的函数将打印有关具有一定数量的中奖号码概率的信息\n",
    "为了计算概率，我们告诉工程团队，票证上的特定组合是不相关的，我们只需要2到5之间的整数即可代表预期的中奖号码。因此，我们将编写一个名为概率_less_6（）的函数，该函数接受一个整数，并根据该整数的值显示有关获胜机会的信息。\n",
    "\n",
    "下面的函数计算出玩家的彩票与给定数目的中奖号码完全匹配的概率。如果玩家想找出拥有五个中奖号码的可能性，则该函数将准确地返回（拥有更多和不少于）五个中奖号码的可能性。该函数将不返回具有至少五个中奖号码的概率。"
   ]
  },
  {
   "cell_type": "code",
   "execution_count": 71,
   "metadata": {
    "collapsed": false
   },
   "outputs": [
    {
     "name": "stdout",
     "output_type": "stream",
     "text": [
      "15.0\n",
      "903.0\n"
     ]
    }
   ],
   "source": [
    "def probability_less_6(n_winning_numbers):\n",
    "    \n",
    "    n_combinations_ticket = combinations(6, n_winning_numbers)\n",
    "    n_combinations_remaining = combinations(43, 6 - n_winning_numbers)\n",
    "    successful_outcomes = n_combinations_ticket * n_combinations_remaining\n",
    "    \n",
    "    n_combinations_total = combinations(49, 6)    \n",
    "    probability = successful_outcomes / n_combinations_total\n",
    "    \n",
    "    probability_percentage = probability * 100    \n",
    "    combinations_simplified = round(n_combinations_total/successful_outcomes)    \n",
    "    print('''Your chances of having {} winning numbers with this ticket are {:.6f}%.\n",
    "In other words, you have a 1 in {:,} chances to win.'''.format(n_winning_numbers, probability_percentage,\n",
    "                                                               int(combinations_simplified)))\n"
   ]
  },
  {
   "cell_type": "code",
   "execution_count": 67,
   "metadata": {
    "collapsed": false
   },
   "outputs": [
    {
     "name": "stdout",
     "output_type": "stream",
     "text": [
      "Your chances of having 2 winning numbers with this ticket are 13.237803%.\n",
      "In other words, you have a 1 in 8 chances to win.\n",
      "--------------------------\n",
      "Your chances of having 3 winning numbers with this ticket are 1.765040%.\n",
      "In other words, you have a 1 in 57 chances to win.\n",
      "--------------------------\n",
      "Your chances of having 4 winning numbers with this ticket are 0.096862%.\n",
      "In other words, you have a 1 in 1,032 chances to win.\n",
      "--------------------------\n",
      "Your chances of having 5 winning numbers with this ticket are 0.001845%.\n",
      "In other words, you have a 1 in 54,201 chances to win.\n",
      "--------------------------\n"
     ]
    }
   ],
   "source": [
    "for test_input in [2, 3, 4, 5]:\n",
    "    probability_less_6(test_input)\n",
    "    print('--------------------------') # output delimiter"
   ]
  },
  {
   "cell_type": "markdown",
   "metadata": {},
   "source": [
    "下一步\n",
    "对于该应用程序的第一个版本，我们编码了四个主要功能：\n",
    "\n",
    "one_ticket_probability（）—计算单张彩票赢得大奖的概率\n",
    "\n",
    "check_historical_occurrence（）-检查加拿大彩票数据集中是否已发生某种组合\n",
    "\n",
    "multi_ticket_probability（）—计算介于1到13,983,816之间的任意数量的票证的概率\n",
    "\n",
    "ency_less_6（）—计算准确地拥有两个，三个，四个或五个中奖号码的概率\n",
    "\n",
    "该应用第二版的可能功能包括：\n",
    "\n",
    "\n",
    "通过添加有趣的类比，使输出变得更易于理解（例如，我们可以发现发生奇怪事件的概率，并与中奖机会进行比较；例如，我们可以按照以下方式输出一些信息：“您的可能性是比赢取彩票成为鲨鱼袭击的受害者”）\n",
    "结合one_ticket_probability（）和check_historical_occurrence（）以同时输出有关概率和历史发生的信息\n",
    "创建一个与probability_less_6（）类似的函数，该函数计算至少具有两个，三个，四个或五个获胜数字的概率。提示：至少有四个获胜数字的成功结果数是这三个数字的总和：\n",
    "正好有四个中奖号码的成功结果数\n",
    "正好有五个中奖号码的成功结果数\n",
    "正好有六个中奖号码的成功结果数"
   ]
  },
  {
   "cell_type": "code",
   "execution_count": null,
   "metadata": {
    "collapsed": true
   },
   "outputs": [],
   "source": []
  }
 ],
 "metadata": {
  "anaconda-cloud": {},
  "kernelspec": {
   "display_name": "Python [default]",
   "language": "python",
   "name": "python3"
  },
  "language_info": {
   "codemirror_mode": {
    "name": "ipython",
    "version": 3
   },
   "file_extension": ".py",
   "mimetype": "text/x-python",
   "name": "python",
   "nbconvert_exporter": "python",
   "pygments_lexer": "ipython3",
   "version": "3.5.2"
  }
 },
 "nbformat": 4,
 "nbformat_minor": 1
}
