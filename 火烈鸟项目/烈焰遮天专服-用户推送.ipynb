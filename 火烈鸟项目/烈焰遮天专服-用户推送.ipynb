{
 "cells": [
  {
   "cell_type": "code",
   "execution_count": 1,
   "metadata": {
    "collapsed": true
   },
   "outputs": [],
   "source": [
    "import numpy as np\n",
    "import pandas as pd  \n",
    "import datetime\n",
    "import matplotlib.pyplot as plt\n",
    "import calendar\n",
    "import os\n",
    "os.chdir('C:/Users/Administrator/Desktop/专服/烈焰遮天/数据分析模组/用户推送/')\n",
    "#pd.set_option('display.max_columns',None)\n",
    "#pd.set_option('display.max_rows',None)\n",
    "pd.set_option('display.float_format',lambda x : '%.2f' % x)"
   ]
  },
  {
   "cell_type": "code",
   "execution_count": 5,
   "metadata": {
    "collapsed": false
   },
   "outputs": [
    {
     "data": {
      "text/html": [
       "<div>\n",
       "<table border=\"1\" class=\"dataframe\">\n",
       "  <thead>\n",
       "    <tr style=\"text-align: right;\">\n",
       "      <th></th>\n",
       "      <th>appid</th>\n",
       "      <th>uin</th>\n",
       "      <th>phone</th>\n",
       "      <th>最后登录时间</th>\n",
       "      <th>最后登录appid</th>\n",
       "      <th>该游戏消费</th>\n",
       "      <th>vip等级</th>\n",
       "      <th>平台</th>\n",
       "    </tr>\n",
       "  </thead>\n",
       "  <tbody>\n",
       "    <tr>\n",
       "      <th>0</th>\n",
       "      <td>122018</td>\n",
       "      <td>1340258</td>\n",
       "      <td>nan</td>\n",
       "      <td>30天内无登录</td>\n",
       "      <td>nan</td>\n",
       "      <td>2160.00</td>\n",
       "      <td>2</td>\n",
       "      <td>66</td>\n",
       "    </tr>\n",
       "    <tr>\n",
       "      <th>1</th>\n",
       "      <td>122018</td>\n",
       "      <td>1171159</td>\n",
       "      <td>nan</td>\n",
       "      <td>30天内无登录</td>\n",
       "      <td>nan</td>\n",
       "      <td>150.00</td>\n",
       "      <td>0</td>\n",
       "      <td>66</td>\n",
       "    </tr>\n",
       "    <tr>\n",
       "      <th>2</th>\n",
       "      <td>122018</td>\n",
       "      <td>976779</td>\n",
       "      <td>nan</td>\n",
       "      <td>30天内无登录</td>\n",
       "      <td>nan</td>\n",
       "      <td>60.00</td>\n",
       "      <td>0</td>\n",
       "      <td>66</td>\n",
       "    </tr>\n",
       "    <tr>\n",
       "      <th>3</th>\n",
       "      <td>122018</td>\n",
       "      <td>1169418</td>\n",
       "      <td>13674704770.00</td>\n",
       "      <td>2020/3/6 21:30</td>\n",
       "      <td>124036.00</td>\n",
       "      <td>0.00</td>\n",
       "      <td>1</td>\n",
       "      <td>66</td>\n",
       "    </tr>\n",
       "    <tr>\n",
       "      <th>4</th>\n",
       "      <td>122018</td>\n",
       "      <td>124199</td>\n",
       "      <td>15967047617.00</td>\n",
       "      <td>2020/2/14 13:08</td>\n",
       "      <td>120834.00</td>\n",
       "      <td>0.00</td>\n",
       "      <td>3</td>\n",
       "      <td>66</td>\n",
       "    </tr>\n",
       "  </tbody>\n",
       "</table>\n",
       "</div>"
      ],
      "text/plain": [
       "    appid      uin          phone           最后登录时间  最后登录appid   该游戏消费  vip等级  \\\n",
       "0  122018  1340258            nan          30天内无登录        nan 2160.00      2   \n",
       "1  122018  1171159            nan          30天内无登录        nan  150.00      0   \n",
       "2  122018   976779            nan          30天内无登录        nan   60.00      0   \n",
       "3  122018  1169418 13674704770.00   2020/3/6 21:30  124036.00    0.00      1   \n",
       "4  122018   124199 15967047617.00  2020/2/14 13:08  120834.00    0.00      3   \n",
       "\n",
       "   平台  \n",
       "0  66  \n",
       "1  66  \n",
       "2  66  \n",
       "3  66  \n",
       "4  66  "
      ]
     },
     "execution_count": 5,
     "metadata": {},
     "output_type": "execute_result"
    }
   ],
   "source": [
    "six_user = pd.read_csv('zp0306_66.csv',engine = 'python')\n",
    "gp_user = pd.read_csv('zp0306_gp.csv',engine = 'python')\n",
    "six_user['平台'] = '66'\n",
    "gp_user['平台'] = '果盘'\n",
    "\n",
    "user = pd.concat([six_user,gp_user])\n",
    "user.head()"
   ]
  },
  {
   "cell_type": "code",
   "execution_count": 55,
   "metadata": {
    "collapsed": false
   },
   "outputs": [
    {
     "name": "stdout",
     "output_type": "stream",
     "text": [
      "    appid    uin  phone  最后登录时间  最后登录appid  该游戏消费  vip等级\n",
      "平台                                                      \n",
      "66  11343  11343   7489   11343       7016  11343  11343\n",
      "果盘   1798   1798    827    1798        780    278   1798\n"
     ]
    },
    {
     "data": {
      "text/html": [
       "<div>\n",
       "<table border=\"1\" class=\"dataframe\">\n",
       "  <thead>\n",
       "    <tr style=\"text-align: right;\">\n",
       "      <th></th>\n",
       "      <th>appid</th>\n",
       "      <th>uin</th>\n",
       "      <th>phone</th>\n",
       "      <th>最后登录时间</th>\n",
       "      <th>最后登录appid</th>\n",
       "      <th>该游戏消费</th>\n",
       "      <th>vip等级</th>\n",
       "    </tr>\n",
       "    <tr>\n",
       "      <th>平台</th>\n",
       "      <th></th>\n",
       "      <th></th>\n",
       "      <th></th>\n",
       "      <th></th>\n",
       "      <th></th>\n",
       "      <th></th>\n",
       "      <th></th>\n",
       "    </tr>\n",
       "  </thead>\n",
       "  <tbody>\n",
       "    <tr>\n",
       "      <th>66</th>\n",
       "      <td>4301</td>\n",
       "      <td>4301</td>\n",
       "      <td>3685</td>\n",
       "      <td>4301</td>\n",
       "      <td>4301</td>\n",
       "      <td>4301</td>\n",
       "      <td>4301</td>\n",
       "    </tr>\n",
       "    <tr>\n",
       "      <th>果盘</th>\n",
       "      <td>409</td>\n",
       "      <td>409</td>\n",
       "      <td>330</td>\n",
       "      <td>409</td>\n",
       "      <td>409</td>\n",
       "      <td>92</td>\n",
       "      <td>409</td>\n",
       "    </tr>\n",
       "  </tbody>\n",
       "</table>\n",
       "</div>"
      ],
      "text/plain": [
       "    appid   uin  phone  最后登录时间  最后登录appid  该游戏消费  vip等级\n",
       "平台                                                     \n",
       "66   4301  4301   3685    4301       4301   4301   4301\n",
       "果盘    409   409    330     409        409     92    409"
      ]
     },
     "execution_count": 55,
     "metadata": {},
     "output_type": "execute_result"
    }
   ],
   "source": [
    "#历史情况\n",
    "\n",
    "#账号新增、有电话账号、历史付费金额\n",
    "print(user[(user['appid'] == 122048)|(user['appid'] == 122018)].groupby('平台').count()) #count()\n",
    "\n",
    "#活跃账号\n",
    "user_hy = user.copy()\n",
    "user_hy['最后登录时间'] = user_hy['最后登录时间'].str.strip()\n",
    "user_hy = user_hy[user_hy['最后登录时间'].str.contains('/')]\n",
    "user_hy['最后登录时间'] = pd.to_datetime(user_hy['最后登录时间'])\n",
    "\n",
    "result = user_hy[user_hy['最后登录时间'] >= '2020-03-02 00:00:00']\n",
    "result[(result['appid'] == 122048)|(result['appid'] == 122018)].groupby('平台').count()"
   ]
  },
  {
   "cell_type": "code",
   "execution_count": 59,
   "metadata": {
    "collapsed": false
   },
   "outputs": [
    {
     "data": {
      "text/html": [
       "<div>\n",
       "<table border=\"1\" class=\"dataframe\">\n",
       "  <thead>\n",
       "    <tr style=\"text-align: right;\">\n",
       "      <th></th>\n",
       "      <th>appid</th>\n",
       "      <th>uin</th>\n",
       "      <th>phone</th>\n",
       "      <th>最后登录时间</th>\n",
       "      <th>最后登录appid</th>\n",
       "      <th>该游戏消费</th>\n",
       "      <th>vip等级</th>\n",
       "    </tr>\n",
       "    <tr>\n",
       "      <th>平台</th>\n",
       "      <th></th>\n",
       "      <th></th>\n",
       "      <th></th>\n",
       "      <th></th>\n",
       "      <th></th>\n",
       "      <th></th>\n",
       "      <th></th>\n",
       "    </tr>\n",
       "  </thead>\n",
       "  <tbody>\n",
       "    <tr>\n",
       "      <th>66</th>\n",
       "      <td>11343</td>\n",
       "      <td>11343</td>\n",
       "      <td>7489</td>\n",
       "      <td>11343</td>\n",
       "      <td>7016</td>\n",
       "      <td>11343</td>\n",
       "      <td>11343</td>\n",
       "    </tr>\n",
       "    <tr>\n",
       "      <th>果盘</th>\n",
       "      <td>1798</td>\n",
       "      <td>1798</td>\n",
       "      <td>827</td>\n",
       "      <td>1798</td>\n",
       "      <td>780</td>\n",
       "      <td>278</td>\n",
       "      <td>1798</td>\n",
       "    </tr>\n",
       "  </tbody>\n",
       "</table>\n",
       "</div>"
      ],
      "text/plain": [
       "    appid    uin  phone  最后登录时间  最后登录appid  该游戏消费  vip等级\n",
       "平台                                                      \n",
       "66  11343  11343   7489   11343       7016  11343  11343\n",
       "果盘   1798   1798    827    1798        780    278   1798"
      ]
     },
     "execution_count": 59,
     "metadata": {},
     "output_type": "execute_result"
    }
   ],
   "source": [
    "#用户池\n",
    "\n",
    "user[(user['appid'] == 122048)|(user['appid'] == 122018)].groupby('平台').count()"
   ]
  }
 ],
 "metadata": {
  "kernelspec": {
   "display_name": "Python [default]",
   "language": "python",
   "name": "python3"
  },
  "language_info": {
   "codemirror_mode": {
    "name": "ipython",
    "version": 3
   },
   "file_extension": ".py",
   "mimetype": "text/x-python",
   "name": "python",
   "nbconvert_exporter": "python",
   "pygments_lexer": "ipython3",
   "version": "3.5.2"
  }
 },
 "nbformat": 4,
 "nbformat_minor": 1
}
