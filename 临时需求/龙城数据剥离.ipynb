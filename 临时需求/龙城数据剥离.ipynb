{
 "cells": [
  {
   "cell_type": "code",
   "execution_count": 1,
   "metadata": {
    "collapsed": false
   },
   "outputs": [],
   "source": [
    "import os\n",
    "os.chdir('C:/Users/Administrator/Desktop/')\n",
    "import numpy as np\n",
    "import pandas as pd\n",
    "import matplotlib.pyplot as plt\n",
    "import seaborn as sns\n",
    "% matplotlib inline"
   ]
  },
  {
   "cell_type": "code",
   "execution_count": 17,
   "metadata": {
    "collapsed": false,
    "scrolled": false
   },
   "outputs": [],
   "source": [
    "#数据清洗\n",
    "\n",
    "data1 = pd.read_csv('总数据.csv',engine = 'python')\n",
    "data2 = pd.read_csv('龙城手游.csv',engine = 'python')\n",
    "data_result = data2.copy()\n",
    "\n",
    "data1.fillna(0,inplace = True)\n",
    "data2.fillna(0,inplace = True)\n",
    "\n",
    "data_all = data1.copy()\n",
    "data_part = data2.copy()\n",
    "\n",
    "for col in data1.columns[7:]:\n",
    "    data_all[col] = data1[col]*data1['UID新增用户']\n",
    "\n",
    "for col in data2.columns[7:]:\n",
    "    data_part[col] = data2[col]*data2['UID新增用户']\n",
    "\n",
    "for col in data2.columns[6:]:\n",
    "    data_result[col] = data_all[col] - data_part[col]\n",
    "\n",
    "data_result.to_csv('C:/Users/Administrator/Desktop/result2.csv')"
   ]
  }
 ],
 "metadata": {
  "anaconda-cloud": {},
  "kernelspec": {
   "display_name": "Python [default]",
   "language": "python",
   "name": "python3"
  }
 },
 "nbformat": 4,
 "nbformat_minor": 1
}
